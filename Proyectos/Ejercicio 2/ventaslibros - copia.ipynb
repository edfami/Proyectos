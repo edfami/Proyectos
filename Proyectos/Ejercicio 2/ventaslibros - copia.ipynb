{
 "cells": [
  {
   "cell_type": "markdown",
   "metadata": {},
   "source": [
    "Optimizacion de Codigo, Ejemplo 1: Identificacion de Ventas en un periodo\n",
    "Generar metricas de desempeño es una tarea muy frecuente en cualquier ambito de negocio, el siguiente codigo fue escrito para identificar qué libros fueron vendidos a partir de un listado especifico:"
   ]
  },
  {
   "cell_type": "code",
   "execution_count": 2,
   "metadata": {},
   "outputs": [],
   "source": [
    "import time\n",
    "import pandas as pd\n",
    "import numpy as np"
   ]
  },
  {
   "cell_type": "code",
   "execution_count": 3,
   "metadata": {},
   "outputs": [],
   "source": [
    "with open('libros_24_meses.txt') as libros_24_meses:\n",
    "    periodo24_ventas_libros = libros_24_meses.read().split('\\n')\n",
    "    \n",
    "with open('catalogo_libros.txt') as catalogo_de_libro:\n",
    "    catalogo_libros = catalogo_de_libro.read().split('\\n')"
   ]
  },
  {
   "cell_type": "code",
   "execution_count": 7,
   "metadata": {
    "tags": []
   },
   "outputs": [
    {
     "output_type": "stream",
     "name": "stdout",
     "text": "0\nDuracion: 0.004000663757324219 segundos\n"
    }
   ],
   "source": [
    "inicio = time.time()\n",
    "libros_vendidos = []\n",
    "\n",
    "for libro in catalogo_libros:\n",
    "    if libro in libros_vendidos:\n",
    "        libros_vendidos.append(libro)\n",
    "\n",
    "print(len(libros_vendidos))\n",
    "print('Duracion: {} segundos'.format(time.time() - inicio))"
   ]
  },
  {
   "cell_type": "markdown",
   "metadata": {},
   "source": [
    "Propuesta de optimizacion 1: utilizar operaciones con vectores en lugar de estructuras de control repetitivas cuando esto sea posible; para este escenario se propone evaluar el uso del metodo intersect1d de la libreria numpy para que nos permita obtener la interseccion de ambos dataset:"
   ]
  },
  {
   "cell_type": "code",
   "execution_count": 5,
   "metadata": {},
   "outputs": [
    {
     "output_type": "error",
     "ename": "SyntaxError",
     "evalue": "invalid syntax (<ipython-input-5-cc66044e28e1>, line 4)",
     "traceback": [
      "\u001b[1;36m  File \u001b[1;32m\"<ipython-input-5-cc66044e28e1>\"\u001b[1;36m, line \u001b[1;32m4\u001b[0m\n\u001b[1;33m    print('Duracion: {} segundos'.(time.time() - inicio))\u001b[0m\n\u001b[1;37m                                  ^\u001b[0m\n\u001b[1;31mSyntaxError\u001b[0m\u001b[1;31m:\u001b[0m invalid syntax\n"
     ]
    }
   ],
   "source": [
    "inicio = time.time()\n",
    "libros_vendidos = np.intersect1d(periodo24_ventas_libros, catalogo_libros)\n",
    "print(len(libros_vendidos))\n",
    "print('Duracion: {} segundos'.(time.time() - inicio))"
   ]
  },
  {
   "cell_type": "markdown",
   "metadata": {},
   "source": [
    "Asignacion 2:Otro enfoque para optimizar el codigo fuente puede ser..."
   ]
  }
 ],
 "metadata": {
  "kernelspec": {
   "display_name": "Python 3",
   "language": "python",
   "name": "python3"
  },
  "language_info": {
   "codemirror_mode": {
    "name": "ipython",
    "version": 3
   },
   "file_extension": ".py",
   "mimetype": "text/x-python",
   "name": "python",
   "nbconvert_exporter": "python",
   "pygments_lexer": "ipython3",
   "version": "3.8.5-final"
  }
 },
 "nbformat": 4,
 "nbformat_minor": 2
}