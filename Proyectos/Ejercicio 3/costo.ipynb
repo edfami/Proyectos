{
 "metadata": {
  "language_info": {
   "codemirror_mode": {
    "name": "ipython",
    "version": 3
   },
   "file_extension": ".py",
   "mimetype": "text/x-python",
   "name": "python",
   "nbconvert_exporter": "python",
   "pygments_lexer": "ipython3",
   "version": "3.8.5-final"
  },
  "orig_nbformat": 2,
  "kernelspec": {
   "name": "python_defaultSpec_1600747218908",
   "display_name": "Python 3.8.5 32-bit"
  }
 },
 "nbformat": 4,
 "nbformat_minor": 2,
 "cells": [
  {
   "cell_type": "code",
   "execution_count": 1,
   "metadata": {},
   "outputs": [],
   "source": [
    "import time\n",
    "import pandas as pd\n",
    "import numpy as np"
   ]
  },
  {
   "cell_type": "code",
   "execution_count": 2,
   "metadata": {},
   "outputs": [],
   "source": [
    "with open('costos.txt') as costos_libros:\n",
    "    costos_de_libros = costos_libros.read().split('\\n')"
   ]
  },
  {
   "cell_type": "code",
   "execution_count": 5,
   "metadata": {
    "tags": []
   },
   "outputs": [
    {
     "output_type": "stream",
     "name": "stdout",
     "text": "La inversion total es: 32869928\nDuracion: 3.3298192024230957 segundos\n"
    }
   ],
   "source": [
    "inicio = time.time()\n",
    "inversiones = 0\n",
    "\n",
    "for ticket in costos_de_libros:\n",
    "    if int(ticket) <= 25:\n",
    "        inversiones = int(ticket) + int(inversiones)\n",
    "\n",
    "\n",
    "print(\"La inversion total es: \" + str(inversiones))\n",
    "print('Duracion: {} segundos'.format(time.time() - inicio))"
   ]
  },
  {
   "cell_type": "code",
   "execution_count": 7,
   "metadata": {
    "tags": []
   },
   "outputs": [
    {
     "output_type": "stream",
     "name": "stdout",
     "text": "La inversion total es: 32869928\nDuracion: 1.162273645401001 segundos\n"
    }
   ],
   "source": [
    "inicio = time.time()\n",
    "\n",
    "inversiones = np.array(costos_de_libros, int)\n",
    "\n",
    "ticket = np.sum(inversiones, where=(inversiones <= 25))\n",
    "\n",
    "print(\"La inversion total es: \" + str(ticket))\n",
    "print('Duracion: {} segundos'.format(time.time() - inicio))\n",
    "\n",
    "\n",
    "\n"
   ]
  },
  {
   "cell_type": "code",
   "execution_count": null,
   "metadata": {},
   "outputs": [],
   "source": []
  }
 ]
}